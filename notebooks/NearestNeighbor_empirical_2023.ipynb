{
 "cells": [
  {
   "cell_type": "markdown",
   "id": "8886676e",
   "metadata": {},
   "source": [
    "__Main Nearest Neighbor Code Generator__"
   ]
  },
  {
   "cell_type": "markdown",
   "id": "3d050be0",
   "metadata": {},
   "source": [
    "I. Libraries "
   ]
  },
  {
   "cell_type": "code",
   "execution_count": 1,
   "id": "92892dce",
   "metadata": {},
   "outputs": [],
   "source": [
    "#### libraries used in this script ###\n",
    "import os\n",
    "import pandas as pd\n",
    "from nnd_helper_funct_git import NN\n",
    "from nnd_helper_funct_git import var\n",
    "from nnd_helper_funct_git import bin_solo\n"
   ]
  },
  {
   "cell_type": "markdown",
   "id": "1fa08a9f",
   "metadata": {},
   "source": [
    "II. Pre-Assigned Variables "
   ]
  },
  {
   "cell_type": "code",
   "execution_count": 2,
   "id": "253d2658",
   "metadata": {},
   "outputs": [],
   "source": [
    "## Variables \n",
    "radius=564.189 #radius in nm of a 1000 nm area circle for ball query analysis \n",
    "sigma=0.03535 #this value does not impact data in this manuscript, where all simulations are conducted with precentclustering=0\n",
    "              #hypotenuse for x,y coordinate with normally distributed daughter points, where the standard deviation=0.5, in a Thomas Clustering process\n",
    "        "
   ]
  },
  {
   "cell_type": "code",
   "execution_count": 3,
   "id": "5f366df5",
   "metadata": {},
   "outputs": [
    {
     "name": "stdout",
     "output_type": "stream",
     "text": [
      "0.000225264\n",
      "      Area  Area Mask (pix)  Area for Arena  square root Area  \\\n",
      "0  178.044    790379.288302    3.161517e+06      13343.312932   \n",
      "\n",
      "   square root Area (nm)  square root Area (pix)   Trek Count  Trek Density  \\\n",
      "0             889.032782             1778.065565        895.0      5.026847   \n",
      "\n",
      "   Trek Density (pix)  Piezo Count  ...  T1T1 Median NND(nm)  \\\n",
      "0            0.001132        845.0  ...           238.438671   \n",
      "\n",
      "   T1T1 Quantile 1 NND(nm)  T1T1 Quantile 3 NND (nm)  P1P1 Mean NND(nm)  \\\n",
      "0               174.771279                312.661156         256.748754   \n",
      "\n",
      "   P1P1 Median NND(nm)  P1P1 Quantile 1 NND(nm)  P1P1 Quantile 3 NND (nm)  \\\n",
      "0           237.928561               173.046237                314.116221   \n",
      "\n",
      "   x_pixel_conversion  y_pixel_conversion  sqr_pixel_conversion  \n",
      "0            0.015009            0.015009              0.000225  \n",
      "\n",
      "[1 rows x 31 columns]\n"
     ]
    }
   ],
   "source": [
    "## Identify Emprical Nearest Neighbor Distances between two channel populations (TREK1, Piezo1)\n",
    "\n",
    "## Call in ROI values, XM coordinates, YM coordinates from FIJI results (StarDist segmented points, previously thresholded by mean intensity relative to unlabeled interior of cell)\n",
    "cell=['A']\n",
    "input_path=r\"...\\data\"\n",
    "\n",
    "\n",
    "dataframes=[]\n",
    "for i in cell:\n",
    "    for name in os.listdir(input_path):\n",
    "        if name.startswith(i) and name.endswith(\"_T1.csv\"):\n",
    "            T1_input_file_path = os.path.join(input_path,name)\n",
    "\n",
    "            # Read the input CSV file into a DataFrame\n",
    "            TREK_df = pd.read_csv(T1_input_file_path)\n",
    "            TREK_df['cell']=i\n",
    "            TREK_df['channel']='TREK'\n",
    "    \n",
    "\n",
    "        elif name.startswith(i) and name.endswith(\"_P1.csv\"):\n",
    "              P1_input_file_path = os.path.join(input_path, name)\n",
    "              \n",
    "              Piezo_df = pd.read_csv(P1_input_file_path)\n",
    "              Piezo_df['cell']=i\n",
    "              Piezo_df['channel']='Piezo'\n",
    "                \n",
    "        elif name.startswith(i) and name.endswith(\"_roimeasure.csv\"):\n",
    "            roi_path=os.path.join(input_path, name)\n",
    "            roi=pd.read_csv(roi_path)\n",
    "            roi['cell']=i\n",
    "\n",
    "#Convert micron locations to nm\n",
    "    TREK_df['XMnm']= TREK_df['XM'].mul(1000) #convert microns to nm\n",
    "    TREK_df['YMnm']= TREK_df['YM'].mul(1000) #convert microns to nm\n",
    "    Piezo_df['XMnm']=Piezo_df['XM'].mul(1000) #convert microns to nm\n",
    "    Piezo_df['YMnm']=Piezo_df['YM'].mul(1000) #convert microns to nm    \n",
    "\n",
    "#Run Nearest Neighbor Function, extract variables and TREK coordinate dataframe \n",
    "    NN(Piezo_df, TREK_df, radius)\n",
    "    variables=var(Piezo_df, TREK_df, roi)\n",
    "    T1P1_bin=bin_solo(TREK_df)\n",
    "    \n",
    "#Extract Data for visualization, feeding into simulation jupyter notebook    \n",
    "\n",
    "    output_path= \".../data/\"\n",
    "    \n",
    "    file_name_T = f\"{i}_TREK_NND.csv\"\n",
    "    file_name_P = f\"{i}_Piezo_NND.csv\"\n",
    "    file_name_var=f\"{i}_vars.csv\"\n",
    "    file_name_T1P1=f\"{i}_T1P1_Bin.csv\"\n",
    "    \n",
    "    name_path_T=output_path+file_name_T\n",
    "    name_path_P=output_path+file_name_P\n",
    "    name_path_var=output_path+file_name_var\n",
    "    name_path_other=output_path+file_name_T1P1\n",
    "    \n",
    "    T1P1_bin.to_csv(name_path_other, index=False)\n",
    "    TREK_df.to_csv(name_path_T, index=False)\n",
    "    Piezo_df.to_csv(name_path_P, index=False)\n",
    "    variables.to_csv(name_path_var, index=False)\n"
   ]
  },
  {
   "cell_type": "code",
   "execution_count": null,
   "id": "6cb1ead6",
   "metadata": {},
   "outputs": [],
   "source": []
  }
 ],
 "metadata": {
  "kernelspec": {
   "display_name": "Python 3 (ipykernel)",
   "language": "python",
   "name": "python3"
  },
  "language_info": {
   "codemirror_mode": {
    "name": "ipython",
    "version": 3
   },
   "file_extension": ".py",
   "mimetype": "text/x-python",
   "name": "python",
   "nbconvert_exporter": "python",
   "pygments_lexer": "ipython3",
   "version": "3.10.9"
  }
 },
 "nbformat": 4,
 "nbformat_minor": 5
}
